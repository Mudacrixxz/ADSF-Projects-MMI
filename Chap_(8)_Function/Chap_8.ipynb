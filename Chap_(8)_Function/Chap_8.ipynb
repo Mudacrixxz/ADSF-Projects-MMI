{
 "cells": [
  {
   "attachments": {},
   "cell_type": "markdown",
   "metadata": {},
   "source": [
    "## CHAPTER (8) \n",
    "\n",
    "### FUNCTION"
   ]
  },
  {
   "attachments": {},
   "cell_type": "markdown",
   "metadata": {},
   "source": [
    "**Exercise 8-1.** \n",
    "\n",
    "Write a function called display_message() that prints one sentence telling everyone what you are learning about in this chapter. Call the function, and make sure the message displays correctly."
   ]
  },
  {
   "cell_type": "code",
   "execution_count": 2,
   "metadata": {},
   "outputs": [
    {
     "name": "stdout",
     "output_type": "stream",
     "text": [
      "(message)\n",
      "In this chapter you learned how to write functions and to pass arguments so that your functions have access to the information they need to do their work.\n"
     ]
    }
   ],
   "source": [
    "def display_message():\n",
    "\n",
    "\n",
    "\tprint('''(message)\n",
    "In this chapter you learned how to write functions and to pass arguments so that your functions have access to the information they need to do their work.''')\n",
    "\n",
    "display_message()"
   ]
  },
  {
   "attachments": {},
   "cell_type": "markdown",
   "metadata": {},
   "source": [
    "**Exercise 8-2.** \n",
    "\n",
    "Write a function called favorite_book() that accepts one\n",
    "parameter, title. The function should print a message, such as One of my\n",
    "favorite books is Alice in Wonderland. Call the function, making sure to\n",
    "include a book title as an argument in the function call."
   ]
  },
  {
   "cell_type": "code",
   "execution_count": 3,
   "metadata": {},
   "outputs": [
    {
     "name": "stdout",
     "output_type": "stream",
     "text": [
      "One of my favorite books is: Jiki Magayi\n"
     ]
    }
   ],
   "source": [
    "def favorite_book(title):\n",
    "    print(f'One of my favorite books is: {title.title()}')\n",
    "    \n",
    "favorite_book('jiki magayi')"
   ]
  },
  {
   "attachments": {},
   "cell_type": "markdown",
   "metadata": {},
   "source": [
    "**Exercise 8-3.** \n",
    "\n",
    "Write a function called make_shirt() that accepts a size and the\n",
    "text of a message that should be printed on the shirt. The function should print\n",
    "a sentence summarizing the size of the shirt and the message printed on it.\n",
    "Call the function once using positional arguments to make a shirt. Call the\n",
    "function a second time using keyword arguments."
   ]
  },
  {
   "cell_type": "code",
   "execution_count": 17,
   "metadata": {},
   "outputs": [
    {
     "name": "stdout",
     "output_type": "stream",
     "text": [
      "The shirt size is: \"XXL\" and the message that should be printed on the shirt is: \"Great Of All Time\". \n",
      "\n",
      "The shirt size is: \"XL\" and the message that should be printed on the shirt is: \"Nice Shirt\". \n",
      "\n"
     ]
    }
   ],
   "source": [
    "def make_shirt(size, text_msg):\n",
    "\tprint(f'The shirt size is: {size} and the message that should be printed on the shirt is: \\\"{text_msg.title()}\\\". \\n')\n",
    "make_shirt('\\\"XXL\\\"', 'great of all time')\n",
    "make_shirt(size='\\\"XL\\\"', text_msg= 'Nice Shirt')\n"
   ]
  },
  {
   "attachments": {},
   "cell_type": "markdown",
   "metadata": {},
   "source": [
    "**Exercise 8-4.** \n",
    "\n",
    "Modify the make_shirt() function so that shirts are large\n",
    "by default with a message that reads I love Python. Make a large shirt and a\n",
    "medium shirt with the default message, and a shirt of any size with a different\n",
    "message."
   ]
  },
  {
   "cell_type": "code",
   "execution_count": 16,
   "metadata": {},
   "outputs": [
    {
     "name": "stdout",
     "output_type": "stream",
     "text": [
      "The shirt size is: \"L\" and the message that should be printed on the shirt is: \"I Love Python\". \n",
      "\n",
      "The shirt size is: \"M\" and the message that should be printed on the shirt is: \"I Love Python\". \n",
      "\n",
      "The shirt size is: \"XL\" and the message that should be printed on the shirt is: \"Great Of All Time\". \n",
      "\n"
     ]
    }
   ],
   "source": [
    "def make_shirts(text_msg, size = 'L'):\n",
    "\tprint(f'The shirt size is: \\\"{size}\\\" and the message that should be printed on the shirt is: \\\"{text_msg.title()}\\\". \\n')\n",
    "\n",
    "make_shirts(text_msg = 'I love Python')\n",
    "make_shirts(size= 'M', text_msg = 'I love Python')\n",
    "make_shirts(size= 'XL', text_msg = 'Great of All Time')"
   ]
  },
  {
   "attachments": {},
   "cell_type": "markdown",
   "metadata": {},
   "source": [
    "**Exercise 8-5.** \n",
    "\n",
    "Write a function called describe_city() that accepts the name of\n",
    "a city and its country. The function should print a simple sentence, such as\n",
    "Reykjavik is in Iceland. Give the parameter for the country a default value.\n",
    "Call your function for three different cities, at least one of which is not in the\n",
    "default country."
   ]
  },
  {
   "cell_type": "code",
   "execution_count": 6,
   "metadata": {},
   "outputs": [
    {
     "name": "stdout",
     "output_type": "stream",
     "text": [
      "Kano is in Nigeria\n",
      "Abuja is in Nigeria\n",
      "Lagos is in Nigeria\n"
     ]
    }
   ],
   "source": [
    "def describe_city(city, country = 'Nigeria'):\n",
    "    print(f'{city} is in {country}')\n",
    "describe_city('Kano')\n",
    "describe_city('Abuja')\n",
    "describe_city('Lagos')"
   ]
  },
  {
   "cell_type": "markdown",
   "metadata": {},
   "source": [
    "**Exercise 8-6.** \n",
    "\n",
    "Write a function called city_country() that takes in the name\n",
    "of a city and its country. The function should return a string formatted like this: \"Santiago, Chile\""
   ]
  },
  {
   "cell_type": "code",
   "execution_count": 7,
   "metadata": {},
   "outputs": [
    {
     "name": "stdout",
     "output_type": "stream",
     "text": [
      "\"Kano,  Nigeria\"\n",
      "\"Niamey,  Niger\"\n",
      "\"Manchester,  England\"\n"
     ]
    }
   ],
   "source": [
    "def city_country(city, country):\n",
    "\tfull = f'\\\"{city.title()},  {country.title()}\\\"'\n",
    "\treturn full\n",
    "print(f'''{city_country('kano', 'nigeria')}\\n{city_country('niamey', 'niger')}\\n{city_country('manchester','england')}''')   "
   ]
  },
  {
   "attachments": {},
   "cell_type": "markdown",
   "metadata": {},
   "source": [
    "**Exercise 8-7.** \n",
    "\n",
    "Write a function called make_album() that builds a dictionary\n",
    "describing a music album. The function should take in an artist name and an\n",
    "album title, and it should return a dictionary containing these two pieces of\n",
    "information. Use the function to make three dictionaries representing different\n",
    "albums. Print each return value to show that the dictionaries are storing the\n",
    "album information correctly.\n",
    "Use None to add an optional parameter to make_album() that allows you to\n",
    "store the number of songs on an album. If the calling line includes a value for\n",
    "the number of songs, add that value to the album’s dictionary. Make at least\n",
    "one new function call that includes the number of songs on an album."
   ]
  },
  {
   "cell_type": "code",
   "execution_count": 8,
   "metadata": {},
   "outputs": [
    {
     "name": "stdout",
     "output_type": "stream",
     "text": [
      "{'artist': 'Bob Marley', 'album': 'Love Songs'} {'artist': 'Eminem', 'album': 'The Slim Shady Lp'} {'artist': 'Eminem', 'album': 'The Eminem Show'}\n"
     ]
    }
   ],
   "source": [
    "def make_album(artist_name, album_title):\n",
    "\tmusic_album = {'artist': artist_name.title(), 'album': album_title.title()}\n",
    "\treturn music_album\n",
    "\n",
    "musician1 = make_album('bob marley', 'love songs')\n",
    "musician2 = make_album('eminem', 'the slim shady lp')\n",
    "musician3 = make_album('eminem', 'the eminem show')\n",
    "print(musician1, musician2, musician3)    "
   ]
  },
  {
   "cell_type": "code",
   "execution_count": 9,
   "metadata": {},
   "outputs": [
    {
     "name": "stdout",
     "output_type": "stream",
     "text": [
      "{'artist': 'Bob Marley', 'album': 'Love Songs', 'Number of songs': 3}\n",
      "{'artist': 'Eminem', 'album': 'The Slim Shady Lp'}\n",
      "{'artist': 'Eminem', 'album': 'The Eminem Show', 'Number of songs': 4}\n"
     ]
    }
   ],
   "source": [
    "def make_album2(artist_name, album_title, num_song= None):\n",
    "\tmusic_album2 = {'artist': artist_name.title(), 'album': album_title.title()}\n",
    "\tif num_song:\n",
    "\t\tmusic_album2['Number of songs'] = num_song\n",
    "\treturn music_album2\n",
    "\n",
    "musician1 = make_album2('bob marley', 'love songs', 3)\n",
    "musician2 = make_album2('eminem', 'the slim shady lp')\n",
    "musician3 = make_album2('eminem', 'the eminem show', 4)\n",
    "print(f'{musician1}\\n{musician2}\\n{musician3}')   "
   ]
  },
  {
   "attachments": {},
   "cell_type": "markdown",
   "metadata": {},
   "source": [
    "**Exercise 8-8.** \n",
    "\n",
    "Start with your program from Exercise 8-7. Write a while\n",
    "loop that allows users to enter an album’s artist and title. Once you have that\n",
    "information, call make_album() with the user’s input and print the dictionary\n",
    "that’s created. Be sure to include a quit value in the while loop."
   ]
  },
  {
   "cell_type": "code",
   "execution_count": 10,
   "metadata": {},
   "outputs": [
    {
     "name": "stdout",
     "output_type": "stream",
     "text": [
      "\n",
      " Please enter album details\n",
      "\n",
      " enter \"q\" at anytime to quit\n",
      "\n",
      " Here is the album: {'artist': 'Bob Marley', 'album': 'Love'}\n",
      "\n",
      " Please enter album details\n",
      "\n",
      " enter \"q\" at anytime to quit\n",
      "\n",
      " Here is the album: {'artist': 'Eminem', 'album': 'E'}\n",
      "\n",
      " Please enter album details\n",
      "\n",
      " enter \"q\" at anytime to quit\n"
     ]
    }
   ],
   "source": [
    "while True:\n",
    "\tprint('\\n Please enter album details')\n",
    "\tprint('\\n enter \"q\" at anytime to quit')\n",
    "\talbum_artist = input('\\nEnter the name of the artist: ')\n",
    "\tif album_artist == 'q':\n",
    "\t\tbreak\n",
    "\talbum_title = input('\\nEnter the album title')\n",
    "\tif album_title == 'q':\n",
    "\t\tbreak\n",
    "\talbum = make_album(album_artist, album_title)\n",
    "\tprint(f'\\n Here is the album: {album}')"
   ]
  },
  {
   "attachments": {},
   "cell_type": "markdown",
   "metadata": {},
   "source": [
    "**Exercise 8-9.** \n",
    "\n",
    "Make a list containing a series of short text messages. Pass the\n",
    "list to a function called show_messages(), which prints each text message."
   ]
  },
  {
   "cell_type": "code",
   "execution_count": 11,
   "metadata": {},
   "outputs": [
    {
     "name": "stdout",
     "output_type": "stream",
     "text": [
      "I love Coding\n",
      "Am happy\n",
      "Enjoying VS code\n",
      "What a nice weather\n"
     ]
    }
   ],
   "source": [
    "def show_messages(list):\n",
    "    for item in list:\n",
    "        print(item)\n",
    "messages = ['I love Coding', 'Am happy', 'Enjoying VS code', 'What a nice weather']\n",
    "show_messages(messages)"
   ]
  },
  {
   "attachments": {},
   "cell_type": "markdown",
   "metadata": {},
   "source": [
    "**Exercise 8-10.** \n",
    "\n",
    "Start with a copy of your program from Exercise 8-9.\n",
    "Write a function called send_messages() that prints each text message and\n",
    "moves each message to a new list called sent_messages as it’s printed. After\n",
    "calling the function, print both of your lists to make sure the messages were\n",
    "moved correctly."
   ]
  },
  {
   "cell_type": "code",
   "execution_count": 12,
   "metadata": {},
   "outputs": [
    {
     "name": "stdout",
     "output_type": "stream",
     "text": [
      "Sending message:\tWhat a nice weather\n",
      "Sending message:\tEnjoying VS code\n",
      "Sending message:\tAm happy\n",
      "Sending message:\tI love Coding\n",
      "\n",
      "*Initial: []\n",
      "\n",
      "*Final: ['What a nice weather', 'Enjoying VS code', 'Am happy', 'I love Coding']\n"
     ]
    }
   ],
   "source": [
    "messages = ['I love Coding', 'Am happy', 'Enjoying VS code', 'What a nice weather']\n",
    "sent = []\n",
    "def send_messages(message_list,sent_messages):\n",
    "    while message_list:\n",
    "        sent_message = message_list.pop()\n",
    "        print(f'Sending message:\\t{sent_message}')\n",
    "        sent_messages.append(sent_message)\n",
    "\n",
    "send_messages(messages, sent)\n",
    "print(f'\\n*Initial: {messages}\\n\\n*Final: {sent}') "
   ]
  },
  {
   "attachments": {},
   "cell_type": "markdown",
   "metadata": {},
   "source": [
    "**Exercise 8-11.** \n",
    "\n",
    "Start with your work from Exercise 8-10. Call the function send_messages() with a copy of the list of messages. After calling the function, print both of your lists to show that the original list has retained its messages"
   ]
  },
  {
   "cell_type": "code",
   "execution_count": 13,
   "metadata": {},
   "outputs": [
    {
     "name": "stdout",
     "output_type": "stream",
     "text": [
      "Sending message:\tWhat a nice weather\n",
      "Sending message:\tEnjoying VS code\n",
      "Sending message:\tAm happy\n",
      "Sending message:\tI love Coding\n",
      "\n",
      "Initial: ['I love Coding', 'Am happy', 'Enjoying VS code', 'What a nice weather']\n",
      "Final: ['What a nice weather', 'Enjoying VS code', 'Am happy', 'I love Coding']\n"
     ]
    }
   ],
   "source": [
    "messages = ['I love Coding', 'Am happy', 'Enjoying VS code', 'What a nice weather']\n",
    "sent = []\n",
    "send_messages(messages[:],sent)\n",
    "print(f'\\nInitial: {messages}\\nFinal: {sent}')"
   ]
  },
  {
   "attachments": {},
   "cell_type": "markdown",
   "metadata": {},
   "source": [
    "**Exercise 8-12.** \n",
    "\n",
    "Sandwiches: Write a function that accepts a list of items a person wants on a sandwich. The function should have one parameter that collects as many items as the function call provides, and it should print a summary of the sand-wich that’s being ordered. Call the function three times, using a different number of arguments each time."
   ]
  },
  {
   "cell_type": "code",
   "execution_count": 14,
   "metadata": {},
   "outputs": [
    {
     "name": "stdout",
     "output_type": "stream",
     "text": [
      "\n",
      "Sandwich Ingredients :\n",
      "> Onion\n",
      "> Meat\n",
      "> Mayonais\n",
      "> Cabbage\n",
      "> Maggi\n",
      "\n",
      "Sandwich Ingredients :\n",
      "> Garlic\n",
      "> Fish\n",
      "> Beaf\n",
      "\n",
      "Sandwich Ingredients :\n",
      "> Horney\n"
     ]
    }
   ],
   "source": [
    "def make_sandwich(*itms):\n",
    "    print(f'\\nSandwich Ingredients :')\n",
    "    for item in itms:\n",
    "        print(f'> {item.title()}')\n",
    "make_sandwich('onion','meat','mayonais','cabbage','maggi')\n",
    "make_sandwich('garlic','fish', 'beaf')\n",
    "make_sandwich('horney')"
   ]
  },
  {
   "attachments": {},
   "cell_type": "markdown",
   "metadata": {},
   "source": [
    "**Exercise 8-13.** \n",
    "\n",
    "Start with a copy of user_profile.py from page 149. Build a profile of yourself by calling build_profile(), using your first and last names and three other key-value pairs that describe you.\n"
   ]
  },
  {
   "cell_type": "code",
   "execution_count": 15,
   "metadata": {},
   "outputs": [
    {
     "data": {
      "text/plain": [
       "{'age': 25,\n",
       " 'language': 'Hausa',\n",
       " 'country': 'Nigeria',\n",
       " 'first_name': 'Mahmud',\n",
       " 'last_name': 'Mahmud'}"
      ]
     },
     "execution_count": 15,
     "metadata": {},
     "output_type": "execute_result"
    }
   ],
   "source": [
    "def build_profile(first, last, **user_info):\n",
    "    \"\"\"Build a dictionary containing everything we know about a user.\"\"\"\n",
    "    user_info['first_name'] = first\n",
    "    user_info['last_name'] = last\n",
    "    return user_info\n",
    "build_profile('Mahmud','Mahmud',age=25,language='Hausa',country='Nigeria')"
   ]
  }
 ],
 "metadata": {
  "kernelspec": {
   "display_name": "Python 3",
   "language": "python",
   "name": "python3"
  },
  "language_info": {
   "codemirror_mode": {
    "name": "ipython",
    "version": 3
   },
   "file_extension": ".py",
   "mimetype": "text/x-python",
   "name": "python",
   "nbconvert_exporter": "python",
   "pygments_lexer": "ipython3",
   "version": "3.11.0"
  },
  "orig_nbformat": 4,
  "vscode": {
   "interpreter": {
    "hash": "2f1a2eacb683bb06bd5c158a4e3bf200b129d414ee0e1c88e9c74e55ea9e8d37"
   }
  }
 },
 "nbformat": 4,
 "nbformat_minor": 2
}
