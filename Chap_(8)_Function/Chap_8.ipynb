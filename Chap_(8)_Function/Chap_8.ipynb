{
 "cells": [
  {
   "attachments": {},
   "cell_type": "markdown",
   "metadata": {},
   "source": [
    "## CHAPTER (8) \n",
    "\n",
    "### FUNCTION"
   ]
  },
  {
   "attachments": {},
   "cell_type": "markdown",
   "metadata": {},
   "source": [
    "**Exercise 8-1.** \n",
    "\n",
    "Write a function called display_message() that prints one sentence telling everyone what you are learning about in this chapter. Call the function, and make sure the message displays correctly."
   ]
  },
  {
   "cell_type": "code",
   "execution_count": 5,
   "metadata": {},
   "outputs": [
    {
     "name": "stdout",
     "output_type": "stream",
     "text": [
      "(message)\n",
      "In this chapter you learned how to write functions and to pass arguments so that your functions have access to the information they need to do their work.\n"
     ]
    }
   ],
   "source": [
    "def display_message():\n",
    "\n",
    "\n",
    "\tprint('''(message)\n",
    "In this chapter you learned how to write functions and to pass arguments so that your functions have access to the information they need to do their work.''')\n",
    "\n",
    "display_message()"
   ]
  },
  {
   "attachments": {},
   "cell_type": "markdown",
   "metadata": {},
   "source": [
    "**Exercise 8-2.** \n",
    "\n",
    "Write a function called favorite_book() that accepts one\n",
    "parameter, title. The function should print a message, such as One of my\n",
    "favorite books is Alice in Wonderland. Call the function, making sure to\n",
    "include a book title as an argument in the function call."
   ]
  },
  {
   "cell_type": "code",
   "execution_count": 7,
   "metadata": {},
   "outputs": [
    {
     "name": "stdout",
     "output_type": "stream",
     "text": [
      "One of my favorite books is: Jiki Magayi\n"
     ]
    }
   ],
   "source": [
    "def favorite_book(title):\n",
    "    print(f'One of my favorite books is: {title.title()}')\n",
    "    \n",
    "favorite_book('jiki magayi')"
   ]
  },
  {
   "attachments": {},
   "cell_type": "markdown",
   "metadata": {},
   "source": [
    "**Exercise 8-3.** \n",
    "\n",
    "Write a function called make_shirt() that accepts a size and the\n",
    "text of a message that should be printed on the shirt. The function should print\n",
    "a sentence summarizing the size of the shirt and the message printed on it.\n",
    "Call the function once using positional arguments to make a shirt. Call the\n",
    "function a second time using keyword arguments."
   ]
  },
  {
   "cell_type": "code",
   "execution_count": 27,
   "metadata": {},
   "outputs": [
    {
     "name": "stdout",
     "output_type": "stream",
     "text": [
      "The shirt size is: \"XXL\" and the message that should printed on the shirt is: \"Great Of All Time\". \n",
      "\n",
      "The shirt size is: \"XL\" and the message that should printed on the shirt is: \"Nice Shirt\". \n",
      "\n"
     ]
    }
   ],
   "source": [
    "def make_shirt(size, text_msg):\n",
    "\tprint(f'The shirt size is: {size} and the message that should printed on the shirt is: \\\"{text_msg.title()}\\\". \\n')\n",
    "make_shirt('\\\"XXL\\\"', 'great of all time')\n",
    "make_shirt(size='\\\"XL\\\"', text_msg= 'Nice Shirt')\n"
   ]
  },
  {
   "attachments": {},
   "cell_type": "markdown",
   "metadata": {},
   "source": [
    "**Exercise 8-4.** \n",
    "\n",
    "Modify the make_shirt() function so that shirts are large\n",
    "by default with a message that reads I love Python. Make a large shirt and a\n",
    "medium shirt with the default message, and a shirt of any size with a different\n",
    "message."
   ]
  },
  {
   "cell_type": "code",
   "execution_count": 34,
   "metadata": {},
   "outputs": [
    {
     "name": "stdout",
     "output_type": "stream",
     "text": [
      "The shirt size is: \"L\" and the message that should printed on the shirt is: \"I Love Python\". \n",
      "\n",
      "The shirt size is: \"M\" and the message that should printed on the shirt is: \"I Love Python\". \n",
      "\n",
      "The shirt size is: \"XL\" and the message that should printed on the shirt is: \"Great Of All Time\". \n",
      "\n"
     ]
    }
   ],
   "source": [
    "def make_shirts(text_msg, size = 'L'):\n",
    "\tprint(f'The shirt size is: \\\"{size}\\\" and the message that should printed on the shirt is: \\\"{text_msg.title()}\\\". \\n')\n",
    "\n",
    "make_shirts(text_msg = 'I love Python')\n",
    "make_shirts(size= 'M', text_msg = 'I love Python')\n",
    "make_shirts(size= 'XL', text_msg = 'Great of All Time')"
   ]
  },
  {
   "attachments": {},
   "cell_type": "markdown",
   "metadata": {},
   "source": [
    "**Exercise 8-5.** \n",
    "\n",
    "Write a function called describe_city() that accepts the name of\n",
    "a city and its country. The function should print a simple sentence, such as\n",
    "Reykjavik is in Iceland. Give the parameter for the country a default value.\n",
    "Call your function for three different cities, at least one of which is not in the\n",
    "default country."
   ]
  },
  {
   "cell_type": "code",
   "execution_count": 35,
   "metadata": {},
   "outputs": [
    {
     "name": "stdout",
     "output_type": "stream",
     "text": [
      "Kano is in Nigeria\n",
      "Abuja is in Nigeria\n",
      "Lagos is in Nigeria\n"
     ]
    }
   ],
   "source": [
    "def describe_city(city, country = 'Nigeria'):\n",
    "    print(f'{city} is in {country}')\n",
    "describe_city('Kano')\n",
    "describe_city('Abuja')\n",
    "describe_city('Lagos')"
   ]
  },
  {
   "cell_type": "markdown",
   "metadata": {},
   "source": [
    "**Exercise 8-6.** \n",
    "\n",
    "Write a function called city_country() that takes in the name\n",
    "of a city and its country. The function should return a string formatted like this: \"Santiago, Chile\""
   ]
  },
  {
   "cell_type": "code",
   "execution_count": 57,
   "metadata": {},
   "outputs": [
    {
     "name": "stdout",
     "output_type": "stream",
     "text": [
      "\"Kano,  Nigeria\"\n",
      "\"Niamey,  Niger\"\n",
      "\"Manchester,  England\"\n"
     ]
    }
   ],
   "source": [
    "def city_country(city, country):\n",
    "\tfull = f'\\\"{city.title()},  {country.title()}\\\"'\n",
    "\treturn full\n",
    "print(f'''{city_country('kano', 'nigeria')}\\n{city_country('niamey', 'niger')}\\n{city_country('manchester','england')}''')   "
   ]
  },
  {
   "attachments": {},
   "cell_type": "markdown",
   "metadata": {},
   "source": [
    "**Exercise 8-7.** \n",
    "\n",
    "Write a function called make_album() that builds a dictionary\n",
    "describing a music album. The function should take in an artist name and an\n",
    "album title, and it should return a dictionary containing these two pieces of\n",
    "information. Use the function to make three dictionaries representing different\n",
    "albums. Print each return value to show that the dictionaries are storing the\n",
    "album information correctly.\n",
    "Use None to add an optional parameter to make_album() that allows you to\n",
    "store the number of songs on an album. If the calling line includes a value for\n",
    "the number of songs, add that value to the album’s dictionary. Make at least\n",
    "one new function call that includes the number of songs on an album."
   ]
  },
  {
   "cell_type": "code",
   "execution_count": null,
   "metadata": {},
   "outputs": [],
   "source": [
    "def make_album(dicts):\n",
    "    "
   ]
  }
 ],
 "metadata": {
  "kernelspec": {
   "display_name": "Python 3",
   "language": "python",
   "name": "python3"
  },
  "language_info": {
   "codemirror_mode": {
    "name": "ipython",
    "version": 3
   },
   "file_extension": ".py",
   "mimetype": "text/x-python",
   "name": "python",
   "nbconvert_exporter": "python",
   "pygments_lexer": "ipython3",
   "version": "3.11.0"
  },
  "orig_nbformat": 4,
  "vscode": {
   "interpreter": {
    "hash": "2f1a2eacb683bb06bd5c158a4e3bf200b129d414ee0e1c88e9c74e55ea9e8d37"
   }
  }
 },
 "nbformat": 4,
 "nbformat_minor": 2
}
