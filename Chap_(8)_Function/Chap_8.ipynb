{
 "cells": [
  {
   "attachments": {},
   "cell_type": "markdown",
   "metadata": {},
   "source": [
    "## CHAPTER (8) \n",
    "\n",
    "### FUNCTION"
   ]
  },
  {
   "attachments": {},
   "cell_type": "markdown",
   "metadata": {},
   "source": [
    "**Exercise 8-1.** \n",
    "\n",
    "Write a function called display_message() that prints one sentence telling everyone what you are learning about in this chapter. Call the function, and make sure the message displays correctly."
   ]
  },
  {
   "cell_type": "code",
   "execution_count": 5,
   "metadata": {},
   "outputs": [
    {
     "name": "stdout",
     "output_type": "stream",
     "text": [
      "(message)\n",
      "In this chapter you learned how to write functions and to pass arguments so that your functions have access to the information they need to do their work.\n"
     ]
    }
   ],
   "source": [
    "def display_message():\n",
    "\n",
    "\n",
    "\tprint('''(message)\n",
    "In this chapter you learned how to write functions and to pass arguments so that your functions have access to the information they need to do their work.''')\n",
    "\n",
    "display_message()"
   ]
  },
  {
   "attachments": {},
   "cell_type": "markdown",
   "metadata": {},
   "source": [
    "**Exercise 8-2.** \n",
    "\n",
    "Write a function called favorite_book() that accepts one\n",
    "parameter, title. The function should print a message, such as One of my\n",
    "favorite books is Alice in Wonderland. Call the function, making sure to\n",
    "include a book title as an argument in the function call."
   ]
  },
  {
   "cell_type": "code",
   "execution_count": 6,
   "metadata": {},
   "outputs": [
    {
     "name": "stdout",
     "output_type": "stream",
     "text": [
      "One of my favorite books is: Jiki Magayi\n"
     ]
    }
   ],
   "source": [
    "def favorite_book(title):\n",
    "    print(f'One of my favorite books is: {title}')\n",
    "    \n",
    "favorite_book('Jiki Magayi')"
   ]
  }
 ],
 "metadata": {
  "kernelspec": {
   "display_name": "Python 3",
   "language": "python",
   "name": "python3"
  },
  "language_info": {
   "codemirror_mode": {
    "name": "ipython",
    "version": 3
   },
   "file_extension": ".py",
   "mimetype": "text/x-python",
   "name": "python",
   "nbconvert_exporter": "python",
   "pygments_lexer": "ipython3",
   "version": "3.11.0"
  },
  "orig_nbformat": 4,
  "vscode": {
   "interpreter": {
    "hash": "2f1a2eacb683bb06bd5c158a4e3bf200b129d414ee0e1c88e9c74e55ea9e8d37"
   }
  }
 },
 "nbformat": 4,
 "nbformat_minor": 2
}
