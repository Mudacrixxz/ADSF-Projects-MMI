{
 "cells": [
  {
   "attachments": {},
   "cell_type": "markdown",
   "metadata": {},
   "source": [
    "## CHAPTER (9)\n",
    "\n",
    "### CLASS"
   ]
  },
  {
   "attachments": {},
   "cell_type": "markdown",
   "metadata": {},
   "source": [
    "**Exercise 9-1.** \n",
    "\n",
    "Restaurant: Make a class called Restaurant. The __init__() method for\n",
    "Restaurant should store two attributes: a restaurant_name and a cuisine_type.\n",
    "Make a method called describe_restaurant() that prints these two pieces of\n",
    "information, and a method called open_restaurant() that prints a message indicating that the restaurant is open.\n",
    "Make an instance called restaurant from your class. Print the two attributes individually, and then call both methods.\n"
   ]
  },
  {
   "cell_type": "code",
   "execution_count": 1,
   "metadata": {},
   "outputs": [
    {
     "name": "stdout",
     "output_type": "stream",
     "text": [
      "Patoosh\n",
      "Chainesse\n",
      "Patoosh restuarant has great decor and ambiance...\n",
      "Welcome to Patoosh retuarant, you will find happiness and best Chainesse meal\n",
      "\n",
      "Get ready Patoosh is now open for business!\n",
      "\n"
     ]
    }
   ],
   "source": [
    "class restaurant:\n",
    "\t\"\"\"A simple attempt to model a restaurant.\"\"\"\n",
    "\tdef __init__(self, restaurant_name, cuisine_type):\n",
    "\t\t\"\"\"Initialize restaurant_name and cuisine_type attributes.\"\"\"\n",
    "\t\tself.restaurant_name = restaurant_name\n",
    "\t\tself.cuisine_type = cuisine_type\n",
    "\tdef describe_restaurant(self):\n",
    "\t\t\"\"\"Describing the restaurant\"\"\"\n",
    "\t\tprint(f'{self.restaurant_name} restaurant has great decor and ambiance...')\n",
    "\t\tprint(f'Welcome to {self.restaurant_name} retuarant, you will find happiness and best {self.cuisine_type} meal\\n')\n",
    "\tdef open_restaurant(self):\n",
    "\t\t\"\"\"Informing people that it's now open\"\"\"\n",
    "\t\tprint(f\"Get ready {self.restaurant_name} is now open for business!\\n\")\n",
    "my_rest = restaurant('Patoosh', 'Chainesse' )\n",
    "print(my_rest.restaurant_name)\n",
    "print(my_rest.cuisine_type)\n",
    "my_rest.describe_restaurant()\n",
    "my_rest.open_restaurant()"
   ]
  },
  {
   "attachments": {},
   "cell_type": "markdown",
   "metadata": {},
   "source": [
    "**Exercise 9-2.** \n",
    "\n",
    "Three Restaurants: Start with your class from Exercise 9-1. Create three\n",
    "different instances from the class, and call describe_restaurant() for each\n",
    "instance.\n"
   ]
  },
  {
   "cell_type": "code",
   "execution_count": 27,
   "metadata": {},
   "outputs": [
    {
     "name": "stdout",
     "output_type": "stream",
     "text": [
      "Gusto restuarant has great decor and ambiance...\n",
      "Welcome to Gusto retuarant, you will find happiness and best Kanuri meal\n",
      "\n",
      "JunkYard restuarant has great decor and ambiance...\n",
      "Welcome to JunkYard retuarant, you will find happiness and best Fast meal\n",
      "\n",
      "Shab'an restuarant has great decor and ambiance...\n",
      "Welcome to Shab'an retuarant, you will find happiness and best Indian meal\n",
      "\n"
     ]
    }
   ],
   "source": [
    "rest1 = restaurant('Gusto', 'Kanuri')\n",
    "rest2 = restaurant('JunkYard', 'Fast')\n",
    "rest3 = restaurant(\"Shab\\'an\", 'Indian')\n",
    "rest1.describe_restaurant()\n",
    "rest2.describe_restaurant()\n",
    "rest3.describe_restaurant()"
   ]
  },
  {
   "attachments": {},
   "cell_type": "markdown",
   "metadata": {},
   "source": [
    "**Exercise 9-3.** \n",
    "\n",
    "Users: Make a class called User. Create two attributes called first_name\n",
    "and last_name, and then create several other attributes that are typically stored\n",
    "in a user profile. Make a method called describe_user() that prints a summary\n",
    "of the user’s information. Make another method called greet_user() that prints\n",
    "a personalized greeting to the user.\n",
    "Create several instances representing different users, and call both methods\n",
    "for each user."
   ]
  },
  {
   "cell_type": "code",
   "execution_count": 9,
   "metadata": {},
   "outputs": [
    {
     "name": "stdout",
     "output_type": "stream",
     "text": [
      "His name is Mahmud Mahmud, he is 25 years old.\n",
      "He lives in Kano State\n",
      "Good Morning Mr. Mahmud, Hope you are doing great?\n",
      "\n",
      "His name is Ali Sani, he is 20 years old.\n",
      "He lives in Kaduna State\n",
      "Good Morning Mr. Sani, Hope you are doing great?\n",
      "\n",
      "His name is Isah Ali, he is 30 years old.\n",
      "He lives in Kwara State\n",
      "Good Morning Mr. Ali, Hope you are doing great?\n",
      "\n"
     ]
    }
   ],
   "source": [
    "class User:\n",
    "\t\"\"\"A simple attempt to model a user.\"\"\"\n",
    "\tdef __init__(self, first_name, last_name, age, address):\n",
    "\t\t\"\"\"Initialize first_name and last_name attributes.\"\"\"\n",
    "\t\tself.first_name = first_name\n",
    "\t\tself.last_name = last_name\n",
    "\t\tself.age = age\n",
    "\t\tself.address = address\n",
    "\tdef describe_user(self):\n",
    "\t\t\"\"\"Describing the user\"\"\"\n",
    "\t\tprint(f'His name is {self.first_name} {self.last_name}, he is {self.age} years old.') \n",
    "\t\tprint(f'He lives in {self.address}')\n",
    "\tdef greet_user(self):\n",
    "\t\t\"\"\"Greetings\"\"\"\n",
    "\t\tprint(f'Good Morning Mr. {self.last_name}, Hope you are doing great?\\n')\n",
    "\n",
    "user_1 = User('Mahmud', 'Mahmud', age = 25,  address = 'Kano State')\n",
    "user_2 = User('Ali', 'Sani', age = 20,  address = 'Kaduna State')\n",
    "user_3 = User('Isah', 'Ali', age = 30,  address = 'Kwara State')\n",
    "\n",
    "user_1.describe_user()\n",
    "user_1.greet_user()\n",
    "user_2.describe_user()\n",
    "user_2.greet_user()\n",
    "user_3.describe_user()\n",
    "user_3.greet_user()"
   ]
  },
  {
   "attachments": {},
   "cell_type": "markdown",
   "metadata": {},
   "source": [
    "**Exercise 9-4.** \n",
    "\n",
    "Number Served: Start with your program from Exercise 9-1 (page 162). Add an attribute called number_served with a default value of 0. Create an instance called restaurant from this class. Print the number of customers the restaurant has served, and then change this value and print it again. Add a method called set_number_served() that lets you set the number of customers that have been served. Call this method with a new number and print the value again. Add a method called increment_number_served() that lets you increment the number of customers who’ve been served. Call this method with any number you like that could represent how many customers were served in, say, a day of business\n"
   ]
  },
  {
   "cell_type": "code",
   "execution_count": null,
   "metadata": {},
   "outputs": [
    {
     "ename": "",
     "evalue": "",
     "output_type": "error",
     "traceback": [
      "\u001b[1;31mFailed to start the Kernel. \n",
      "\u001b[1;31mUnable to start Kernel 'miniconda3 (Python 3.10.8)' due to connection timeout. \n",
      "\u001b[1;31mView Jupyter <a href='command:jupyter.viewOutput'>log</a> for further details."
     ]
    }
   ],
   "source": [
    "class Restaurant1:\n",
    "\t\"\"\"A simple attempt to model a restaurant.\"\"\"\n",
    "\tdef __init__(self, restaurant_name, cuisine_type):\n",
    "\t\t\"\"\"Initialize restaurant_name and cuisine_type attributes.\"\"\"\n",
    "\t\tself.restaurant_name = restaurant_name\n",
    "\t\tself.cuisine_type = cuisine_type\n",
    "\t\tself.number_served = 0\n",
    "\tdef describe_restaurant(self):\n",
    "\t\t\"\"\"Describing the restaurant\"\"\"\n",
    "\t\tprint(f'>{self.restaurant_name} restaurant has great decor and ambiance...')\n",
    "\t\tprint(f'-Welcome to {self.restaurant_name} retuarant, you will find happiness and best {self.cuisine_type} meal, {self.number_served} customers has been served so far\\n')\n",
    "\tdef open_restaurant(self):\n",
    "\t\t\"\"\"Informing people that it's now open\"\"\"\n",
    "\t\tprint(f\"Get ready {self.restaurant_name} is now open for business!\\n\")\n",
    "\t\n",
    "\tdef set_number_served(self, num):\n",
    "\t\t'''Set the number of customers that have been served'''\n",
    "\t\tif num > self.number_served:\n",
    "\t\t\tself.number_served = num\n",
    "\t\telse:\n",
    "\t\t\tprint('We only move forward!!')\n",
    "\t\t\t\n",
    "\tdef increment_number_served(self, add):\n",
    "\t\t'''Increase the number of customers served by an amount'''\n",
    "\t\tif add > 0:\n",
    "\t\t\tself.number_served += add\n",
    "\t\telse:\n",
    "\t\t\tprint('We can\\'t reduced customers serving ')\n",
    "\n",
    "rest = Restaurant1('Patoosh','Chinese')\n",
    "rest.number_served   # 0\n",
    "rest.number_served = 8\n",
    "rest.describe_restaurant()  \n",
    "rest.set_number_served(50)\n",
    "rest.describe_restaurant() \n",
    "rest.increment_number_served(7)\n",
    "rest.describe_restaurant()  "
   ]
  },
  {
   "attachments": {},
   "cell_type": "markdown",
   "metadata": {},
   "source": [
    "**Exercise 9-5.** \n",
    "\n",
    "Login Attempts: Add an attribute called login_attempts to your User class from Exercise 9-3 (page 162). Write a method called increment_login _attempts() that increments the value of login_attempts by 1. Write another method called reset_login_attempts() that resets the value of login_attempts to 0. Make an instance of the User class and call increment_login_attempts() several times. Print the value of login_attempts to make sure it was incremented properly, and then call reset_login_attempts(). Print login_attempts again to make sure it was reset to 0."
   ]
  },
  {
   "cell_type": "code",
   "execution_count": 16,
   "metadata": {},
   "outputs": [
    {
     "name": "stdout",
     "output_type": "stream",
     "text": [
      "The login Attempt is 6 times\n",
      "Reset back to\t0\n"
     ]
    }
   ],
   "source": [
    "class User2:\n",
    "\t\"\"\"A simple attempt to model a user.\"\"\"\n",
    "\tdef __init__(self, first_name, last_name, age, address):\n",
    "\t\t\"\"\"Initialize first_name and last_name attributes.\"\"\"\n",
    "\t\tself.first_name = first_name\n",
    "\t\tself.last_name = last_name\n",
    "\t\tself.age = age\n",
    "\t\tself.address = address\n",
    "\t\tself.login_attempts = 0\n",
    "\tdef describe_user(self):\n",
    "\t\t\"\"\"Describing the user\"\"\"\n",
    "\t\tprint(f'His name is {self.first_name} {self.last_name}, he is {self.age} years old.') \n",
    "\t\tprint(f'He lives in {self.address}')\n",
    "\tdef greet_user(self):\n",
    "\t\t\"\"\"Greetings\"\"\"\n",
    "\t\tprint(f'Good Morning Mr. {self.last_name}, Hope you are doing great?\\n')\n",
    "\tdef increment_login_attempts(self):\n",
    "\t\t'''Increase the number of login attempts by 1'''\n",
    "\t\tself.login_attempts += 1\n",
    "\tdef reset_login_attempts(self):\n",
    "\t\t'''Reset the login_attempts back to zero'''\n",
    "\t\tself.login_attempts = 0\n",
    "\n",
    "user_a = User2('Ali','Isah',34,'Kano')\n",
    "for i in range(6):\n",
    "    user_a.increment_login_attempts()\n",
    "print(f'The login Attempt is {user_a.login_attempts} times') \n",
    "user_a.reset_login_attempts()\n",
    "print(f'Reset back to\\t{user_a.login_attempts}') "
   ]
  },
  {
   "attachments": {},
   "cell_type": "markdown",
   "metadata": {},
   "source": [
    "**Exercise 9-5.** "
   ]
  }
 ],
 "metadata": {
  "kernelspec": {
   "display_name": "Python 3",
   "language": "python",
   "name": "python3"
  },
  "language_info": {
   "codemirror_mode": {
    "name": "ipython",
    "version": 3
   },
   "file_extension": ".py",
   "mimetype": "text/x-python",
   "name": "python",
   "nbconvert_exporter": "python",
   "pygments_lexer": "ipython3",
   "version": "3.10.8"
  },
  "orig_nbformat": 4,
  "vscode": {
   "interpreter": {
    "hash": "fa2bdf7561d8d60c40fbb5bf830ea182e95f6f248050aed925ff7a2119deb876"
   }
  }
 },
 "nbformat": 4,
 "nbformat_minor": 2
}
