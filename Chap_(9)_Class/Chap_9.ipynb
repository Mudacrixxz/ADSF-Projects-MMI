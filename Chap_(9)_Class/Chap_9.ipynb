{
 "cells": [
  {
   "attachments": {},
   "cell_type": "markdown",
   "metadata": {},
   "source": [
    "## CHAPTER (9)\n",
    "\n",
    "### CLASS"
   ]
  },
  {
   "attachments": {},
   "cell_type": "markdown",
   "metadata": {},
   "source": [
    "**Exercise 9-1.** \n",
    "\n",
    "Restaurant: Make a class called Restaurant. The __init__() method for\n",
    "Restaurant should store two attributes: a restaurant_name and a cuisine_type.\n",
    "Make a method called describe_restaurant() that prints these two pieces of\n",
    "information, and a method called open_restaurant() that prints a message indicating that the restaurant is open.\n",
    "Make an instance called restaurant from your class. Print the two attributes individually, and then call both methods.\n"
   ]
  },
  {
   "cell_type": "code",
   "execution_count": 1,
   "metadata": {},
   "outputs": [
    {
     "name": "stdout",
     "output_type": "stream",
     "text": [
      "Patoosh\n",
      "Chainesse\n",
      "Patoosh restuarant has great decor and ambiance...\n",
      "Welcome to Patoosh retuarant, you will find happiness and best Chainesse meal\n",
      "\n",
      "Get ready Patoosh is now open for business!\n",
      "\n"
     ]
    }
   ],
   "source": [
    "class Restuarant:\n",
    "\t\"\"\"A simple attempt to model a restuarant.\"\"\"\n",
    "\tdef __init__(self, restuarant_name, cuisine_type):\n",
    "\t\t\"\"\"Initialize restuarant_name and cuisine_type attributes.\"\"\"\n",
    "\t\tself.restuarant_name = restuarant_name\n",
    "\t\tself.cuisine_type = cuisine_type\n",
    "\tdef describe_restuarant(self):\n",
    "\t\t\"\"\"Describing the restuarant\"\"\"\n",
    "\t\tprint(f'{self.restuarant_name} restuarant has great decor and ambiance...')\n",
    "\t\tprint(f'Welcome to {self.restuarant_name} retuarant, you will find happiness and best {self.cuisine_type} meal\\n')\n",
    "\tdef open_restuarant(self):\n",
    "\t\t\"\"\"Informing people that it's now open\"\"\"\n",
    "\t\tprint(f\"Get ready {self.restuarant_name} is now open for business!\\n\")\n",
    "my_rest = Restuarant('Patoosh', 'Chainesse' )\n",
    "print(my_rest.restuarant_name)\n",
    "print(my_rest.cuisine_type)\n",
    "my_rest.describe_restuarant()\n",
    "my_rest.open_restuarant()"
   ]
  },
  {
   "attachments": {},
   "cell_type": "markdown",
   "metadata": {},
   "source": [
    "**Exercise 9-2.** \n",
    "\n",
    "Three Restaurants: Start with your class from Exercise 9-1. Create three\n",
    "different instances from the class, and call describe_restaurant() for each\n",
    "instance.\n"
   ]
  },
  {
   "cell_type": "code",
   "execution_count": 27,
   "metadata": {},
   "outputs": [
    {
     "name": "stdout",
     "output_type": "stream",
     "text": [
      "Gusto restuarant has great decor and ambiance...\n",
      "Welcome to Gusto retuarant, you will find happiness and best Kanuri meal\n",
      "\n",
      "JunkYard restuarant has great decor and ambiance...\n",
      "Welcome to JunkYard retuarant, you will find happiness and best Fast meal\n",
      "\n",
      "Shab'an restuarant has great decor and ambiance...\n",
      "Welcome to Shab'an retuarant, you will find happiness and best Indian meal\n",
      "\n"
     ]
    }
   ],
   "source": [
    "rest1 = Restuarant('Gusto', 'Kanuri')\n",
    "rest2 = Restuarant('JunkYard', 'Fast')\n",
    "rest3 = Restuarant(\"Shab\\'an\", 'Indian')\n",
    "rest1.describe_restuarant()\n",
    "rest2.describe_restuarant()\n",
    "rest3.describe_restuarant()"
   ]
  },
  {
   "attachments": {},
   "cell_type": "markdown",
   "metadata": {},
   "source": [
    "**Exercise 9-3.** \n",
    "\n",
    "Users: Make a class called User. Create two attributes called first_name\n",
    "and last_name, and then create several other attributes that are typically stored\n",
    "in a user profile. Make a method called describe_user() that prints a summary\n",
    "of the user’s information. Make another method called greet_user() that prints\n",
    "a personalized greeting to the user.\n",
    "Create several instances representing different users, and call both methods\n",
    "for each user."
   ]
  },
  {
   "cell_type": "code",
   "execution_count": 9,
   "metadata": {},
   "outputs": [
    {
     "name": "stdout",
     "output_type": "stream",
     "text": [
      "His name is Mahmud Mahmud, he is 25 years old.\n",
      "He lives in Kano State\n",
      "Good Morning Mr. Mahmud, Hope you are doing great?\n",
      "\n",
      "His name is Ali Sani, he is 20 years old.\n",
      "He lives in Kaduna State\n",
      "Good Morning Mr. Sani, Hope you are doing great?\n",
      "\n",
      "His name is Isah Ali, he is 30 years old.\n",
      "He lives in Kwara State\n",
      "Good Morning Mr. Ali, Hope you are doing great?\n",
      "\n"
     ]
    }
   ],
   "source": [
    "class User:\n",
    "\t\"\"\"A simple attempt to model a user.\"\"\"\n",
    "\tdef __init__(self, first_name, last_name, age, address):\n",
    "\t\t\"\"\"Initialize first_name and last_name attributes.\"\"\"\n",
    "\t\tself.first_name = first_name\n",
    "\t\tself.last_name = last_name\n",
    "\t\tself.age = age\n",
    "\t\tself.address = address\n",
    "\tdef describe_user(self):\n",
    "\t\t\"\"\"Describing the user\"\"\"\n",
    "\t\tprint(f'His name is {self.first_name} {self.last_name}, he is {self.age} years old.') \n",
    "\t\tprint(f'He lives in {self.address}')\n",
    "\tdef greet_user(self):\n",
    "\t\t\"\"\"Greetings\"\"\"\n",
    "\t\tprint(f'Good Morning Mr. {self.last_name}, Hope you are doing great?\\n')\n",
    "\n",
    "user_1 = User('Mahmud', 'Mahmud', age = 25,  address = 'Kano State')\n",
    "user_2 = User('Ali', 'Sani', age = 20,  address = 'Kaduna State')\n",
    "user_3 = User('Isah', 'Ali', age = 30,  address = 'Kwara State')\n",
    "\n",
    "user_1.describe_user()\n",
    "user_1.greet_user()\n",
    "user_2.describe_user()\n",
    "user_2.greet_user()\n",
    "user_3.describe_user()\n",
    "user_3.greet_user()\n"
   ]
  }
 ],
 "metadata": {
  "kernelspec": {
   "display_name": "Python 3",
   "language": "python",
   "name": "python3"
  },
  "language_info": {
   "codemirror_mode": {
    "name": "ipython",
    "version": 3
   },
   "file_extension": ".py",
   "mimetype": "text/x-python",
   "name": "python",
   "nbconvert_exporter": "python",
   "pygments_lexer": "ipython3",
   "version": "3.10.8"
  },
  "orig_nbformat": 4,
  "vscode": {
   "interpreter": {
    "hash": "fa2bdf7561d8d60c40fbb5bf830ea182e95f6f248050aed925ff7a2119deb876"
   }
  }
 },
 "nbformat": 4,
 "nbformat_minor": 2
}
