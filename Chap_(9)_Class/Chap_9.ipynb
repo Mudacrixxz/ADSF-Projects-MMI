{
 "cells": [
  {
   "attachments": {},
   "cell_type": "markdown",
   "metadata": {},
   "source": [
    "## CHAPTER (9)\n",
    "\n",
    "### CLASS"
   ]
  },
  {
   "attachments": {},
   "cell_type": "markdown",
   "metadata": {},
   "source": [
    "**Exercise 9-1.** \n",
    "\n",
    "Restaurant: Make a class called Restaurant. The __init__() method for\n",
    "Restaurant should store two attributes: a restaurant_name and a cuisine_type.\n",
    "Make a method called describe_restaurant() that prints these two pieces of\n",
    "information, and a method called open_restaurant() that prints a message indicating that the restaurant is open.\n",
    "Make an instance called restaurant from your class. Print the two attributes individually, and then call both methods.\n"
   ]
  },
  {
   "cell_type": "code",
   "execution_count": 4,
   "metadata": {},
   "outputs": [
    {
     "name": "stdout",
     "output_type": "stream",
     "text": [
      "Patoosh\n",
      "Chainesse\n",
      "Patoosh restaurant has great decor and ambiance...\n",
      "Welcome to Patoosh retuarant, you will find happiness and best Chainesse meal\n",
      "\n",
      "Get ready Patoosh is now open for business!\n",
      "\n"
     ]
    }
   ],
   "source": [
    "class Restaurant:\n",
    "\t\"\"\"A simple attempt to model a restaurant.\"\"\"\n",
    "\tdef __init__(self, restaurant_name, cuisine_type):\n",
    "\t\t\"\"\"Initialize restaurant_name and cuisine_type attributes.\"\"\"\n",
    "\t\tself.restaurant_name = restaurant_name\n",
    "\t\tself.cuisine_type = cuisine_type\n",
    "\tdef describe_restaurant(self):\n",
    "\t\t\"\"\"Describing the restaurant\"\"\"\n",
    "\t\tprint(f'{self.restaurant_name} restaurant has great decor and ambiance...')\n",
    "\t\tprint(f'Welcome to {self.restaurant_name} retuarant, you will find happiness and best {self.cuisine_type} meal\\n')\n",
    "\tdef open_restaurant(self):\n",
    "\t\t\"\"\"Informing people that it's now open\"\"\"\n",
    "\t\tprint(f\"Get ready {self.restaurant_name} is now open for business!\\n\")\n",
    "my_rest = Restaurant('Patoosh', 'Chainesse' )\n",
    "print(my_rest.restaurant_name)\n",
    "print(my_rest.cuisine_type)\n",
    "my_rest.describe_restaurant()\n",
    "my_rest.open_restaurant()"
   ]
  },
  {
   "attachments": {},
   "cell_type": "markdown",
   "metadata": {},
   "source": [
    "**Exercise 9-2.** \n",
    "\n",
    "Three Restaurants: Start with your class from Exercise 9-1. Create three\n",
    "different instances from the class, and call describe_restaurant() for each\n",
    "instance.\n"
   ]
  },
  {
   "cell_type": "code",
   "execution_count": 5,
   "metadata": {},
   "outputs": [
    {
     "name": "stdout",
     "output_type": "stream",
     "text": [
      "Gusto restaurant has great decor and ambiance...\n",
      "Welcome to Gusto retuarant, you will find happiness and best Kanuri meal\n",
      "\n",
      "JunkYard restaurant has great decor and ambiance...\n",
      "Welcome to JunkYard retuarant, you will find happiness and best Fast meal\n",
      "\n",
      "Shab'an restaurant has great decor and ambiance...\n",
      "Welcome to Shab'an retuarant, you will find happiness and best Indian meal\n",
      "\n"
     ]
    }
   ],
   "source": [
    "rest1 = Restaurant('Gusto', 'Kanuri')\n",
    "rest2 = Restaurant('JunkYard', 'Fast')\n",
    "rest3 = Restaurant(\"Shab\\'an\", 'Indian')\n",
    "rest1.describe_restaurant()\n",
    "rest2.describe_restaurant()\n",
    "rest3.describe_restaurant()"
   ]
  },
  {
   "attachments": {},
   "cell_type": "markdown",
   "metadata": {},
   "source": [
    "**Exercise 9-3.** \n",
    "\n",
    "Users: Make a class called User. Create two attributes called first_name\n",
    "and last_name, and then create several other attributes that are typically stored\n",
    "in a user profile. Make a method called describe_user() that prints a summary\n",
    "of the user’s information. Make another method called greet_user() that prints\n",
    "a personalized greeting to the user.\n",
    "Create several instances representing different users, and call both methods\n",
    "for each user."
   ]
  },
  {
   "cell_type": "code",
   "execution_count": 6,
   "metadata": {},
   "outputs": [
    {
     "name": "stdout",
     "output_type": "stream",
     "text": [
      "His name is Mahmud Mahmud, he is 25 years old.\n",
      "He lives in Kano State\n",
      "Good Morning Mr. Mahmud, Hope you are doing great?\n",
      "\n",
      "His name is Ali Sani, he is 20 years old.\n",
      "He lives in Kaduna State\n",
      "Good Morning Mr. Sani, Hope you are doing great?\n",
      "\n",
      "His name is Isah Ali, he is 30 years old.\n",
      "He lives in Kwara State\n",
      "Good Morning Mr. Ali, Hope you are doing great?\n",
      "\n"
     ]
    }
   ],
   "source": [
    "class User:\n",
    "\t\"\"\"A simple attempt to model a user.\"\"\"\n",
    "\tdef __init__(self, first_name, last_name, age, address):\n",
    "\t\t\"\"\"Initialize first_name and last_name attributes.\"\"\"\n",
    "\t\tself.first_name = first_name\n",
    "\t\tself.last_name = last_name\n",
    "\t\tself.age = age\n",
    "\t\tself.address = address\n",
    "\tdef describe_user(self):\n",
    "\t\t\"\"\"Describing the user\"\"\"\n",
    "\t\tprint(f'His name is {self.first_name} {self.last_name}, he is {self.age} years old.') \n",
    "\t\tprint(f'He lives in {self.address}')\n",
    "\tdef greet_user(self):\n",
    "\t\t\"\"\"Greetings\"\"\"\n",
    "\t\tprint(f'Good Morning Mr. {self.last_name}, Hope you are doing great?\\n')\n",
    "\n",
    "user_1 = User('Mahmud', 'Mahmud', age = 25,  address = 'Kano State')\n",
    "user_2 = User('Ali', 'Sani', age = 20,  address = 'Kaduna State')\n",
    "user_3 = User('Isah', 'Ali', age = 30,  address = 'Kwara State')\n",
    "\n",
    "user_1.describe_user()\n",
    "user_1.greet_user()\n",
    "user_2.describe_user()\n",
    "user_2.greet_user()\n",
    "user_3.describe_user()\n",
    "user_3.greet_user()"
   ]
  },
  {
   "attachments": {},
   "cell_type": "markdown",
   "metadata": {},
   "source": [
    "**Exercise 9-4.** \n",
    "\n",
    "Number Served: Start with your program from Exercise 9-1 (page 162). Add an attribute called number_served with a default value of 0. Create an instance called restaurant from this class. Print the number of customers the restaurant has served, and then change this value and print it again. Add a method called set_number_served() that lets you set the number of customers that have been served. Call this method with a new number and print the value again. Add a method called increment_number_served() that lets you increment the number of customers who’ve been served. Call this method with any number you like that could represent how many customers were served in, say, a day of business\n"
   ]
  },
  {
   "cell_type": "code",
   "execution_count": 7,
   "metadata": {},
   "outputs": [
    {
     "name": "stdout",
     "output_type": "stream",
     "text": [
      "-Patoosh restaurant has great decor and ambiance...\n",
      "-Welcome to Patoosh retuarant, you will find happiness and best Chinese meal, 8 customers has been served so far\n",
      "\n",
      "-Patoosh restaurant has great decor and ambiance...\n",
      "-Welcome to Patoosh retuarant, you will find happiness and best Chinese meal, 50 customers has been served so far\n",
      "\n",
      "-Patoosh restaurant has great decor and ambiance...\n",
      "-Welcome to Patoosh retuarant, you will find happiness and best Chinese meal, 57 customers has been served so far\n",
      "\n"
     ]
    }
   ],
   "source": [
    "class Restaurant1:\n",
    "\t\"\"\"A simple attempt to model a restaurant.\"\"\"\n",
    "\tdef __init__(self, restaurant_name, cuisine_type):\n",
    "\t\t\"\"\"Initialize restaurant_name and cuisine_type attributes.\"\"\"\n",
    "\t\tself.restaurant_name = restaurant_name\n",
    "\t\tself.cuisine_type = cuisine_type\n",
    "\t\tself.number_served = 0\n",
    "\tdef describe_restaurant(self):\n",
    "\t\t\"\"\"Describing the restaurant\"\"\"\n",
    "\t\tprint(f'-{self.restaurant_name} restaurant has great decor and ambiance...')\n",
    "\t\tprint(f'-Welcome to {self.restaurant_name} retuarant, you will find happiness and best {self.cuisine_type} meal, {self.number_served} customers has been served so far\\n')\n",
    "\tdef open_restaurant(self):\n",
    "\t\t\"\"\"Informing people that it's now open\"\"\"\n",
    "\t\tprint(f\"Get ready {self.restaurant_name} is now open for business!\\n\")\n",
    "\t\n",
    "\tdef set_number_served(self, num):\n",
    "\t\t'''Set the number of customers that have been served'''\n",
    "\t\tif num > self.number_served:\n",
    "\t\t\tself.number_served = num\n",
    "\t\telse:\n",
    "\t\t\tprint('We only move forward!!')\n",
    "\t\t\t\n",
    "\tdef increment_number_served(self, add):\n",
    "\t\t'''Increase the number of customers served by an amount'''\n",
    "\t\tif add > 0:\n",
    "\t\t\tself.number_served += add\n",
    "\t\telse:\n",
    "\t\t\tprint('We can\\'t reduced customers serving ')\n",
    "\n",
    "rest = Restaurant1('Patoosh','Chinese')\n",
    "rest.number_served   # 0\n",
    "rest.number_served = 8\n",
    "rest.describe_restaurant()  \n",
    "rest.set_number_served(50)\n",
    "rest.describe_restaurant() \n",
    "rest.increment_number_served(7)\n",
    "rest.describe_restaurant()  "
   ]
  },
  {
   "attachments": {},
   "cell_type": "markdown",
   "metadata": {},
   "source": [
    "**Exercise 9-5.** \n",
    "\n",
    "Login Attempts: Add an attribute called login_attempts to your User class from Exercise 9-3 (page 162). Write a method called increment_login _attempts() that increments the value of login_attempts by 1. Write another method called reset_login_attempts() that resets the value of login_attempts to 0. Make an instance of the User class and call increment_login_attempts() several times. Print the value of login_attempts to make sure it was incremented properly, and then call reset_login_attempts(). Print login_attempts again to make sure it was reset to 0."
   ]
  },
  {
   "cell_type": "code",
   "execution_count": 8,
   "metadata": {},
   "outputs": [
    {
     "name": "stdout",
     "output_type": "stream",
     "text": [
      "The login Attempt is 6 times\n",
      "Reset back to\t0\n"
     ]
    }
   ],
   "source": [
    "class User2:\n",
    "\t\"\"\"A simple attempt to model a user.\"\"\"\n",
    "\tdef __init__(self, first_name, last_name, age, address):\n",
    "\t\t\"\"\"Initialize first_name and last_name attributes.\"\"\"\n",
    "\t\tself.first_name = first_name\n",
    "\t\tself.last_name = last_name\n",
    "\t\tself.age = age\n",
    "\t\tself.address = address\n",
    "\t\tself.login_attempts = 0\n",
    "\tdef describe_user(self):\n",
    "\t\t\"\"\"Describing the user\"\"\"\n",
    "\t\tprint(f'His name is {self.first_name} {self.last_name}, he is {self.age} years old.') \n",
    "\t\tprint(f'He lives in {self.address}')\n",
    "\tdef greet_user(self):\n",
    "\t\t\"\"\"Greetings\"\"\"\n",
    "\t\tprint(f'Good Morning Mr. {self.last_name}, Hope you are doing great?\\n')\n",
    "\tdef increment_login_attempts(self):\n",
    "\t\t'''Increase the number of login attempts by 1'''\n",
    "\t\tself.login_attempts += 1\n",
    "\tdef reset_login_attempts(self):\n",
    "\t\t'''Reset the login_attempts back to zero'''\n",
    "\t\tself.login_attempts = 0\n",
    "\n",
    "user_a = User2('Ali','Isah',34,'Kano')\n",
    "for i in range(6):\n",
    "    user_a.increment_login_attempts()\n",
    "print(f'The login Attempt is {user_a.login_attempts} times') \n",
    "user_a.reset_login_attempts()\n",
    "print(f'Reset back to\\t{user_a.login_attempts}') "
   ]
  },
  {
   "attachments": {},
   "cell_type": "markdown",
   "metadata": {},
   "source": [
    "**Exercise 9-6.** \n",
    "\n",
    "Ice Cream Stand: An ice cream stand is a specific kind of restaurant. Write a class called IceCreamStand that inherits from the Restaurant class you wrote in Exercise 9-1 (page 162) or Exercise 9-4 (page 167). Either version of the class will work; just pick the one you like better. Add an attribute called flavors that stores a list of ice cream flavors. Write a method that displays these flavors. Create an instance of IceCreamStand, and call this method.'''"
   ]
  },
  {
   "cell_type": "code",
   "execution_count": 9,
   "metadata": {},
   "outputs": [
    {
     "name": "stdout",
     "output_type": "stream",
     "text": [
      "\n",
      "Here is our icecream flavors:\n",
      "-Strawberry\n",
      "-Vanilla\n",
      "-Choco\n",
      "-Banana\n"
     ]
    }
   ],
   "source": [
    "class IceCreamStand(Restaurant1):\n",
    "    '''An attempt to model an icecream stand, a kind of restaurant'''\n",
    "    def __init__(self, restaurant_name, cuisine_type):\n",
    "        '''Initialise attributes of parent class(Restaurant1) then those specific to an IceCreamStand'''\n",
    "        super().__init__(restaurant_name, cuisine_type)\n",
    "        self.flavors = ['strawberry','vanilla', 'choco', 'Banana']\n",
    "    def display_flavors(self):\n",
    "        '''Display the flavors available in the Ice_Cream_Stand'''\n",
    "        print(f'\\nHere is our icecream flavors:')\n",
    "        for item in self.flavors:\n",
    "            print(f'-{item.capitalize()}')\n",
    "\n",
    "ice = IceCreamStand('10 to 10','Italian')\n",
    "ice.display_flavors()"
   ]
  },
  {
   "attachments": {},
   "cell_type": "markdown",
   "metadata": {},
   "source": [
    " **Exercise 9-7.**\n",
    "  \n",
    " Admin: An administrator is a special kind of user. Write a class called Admin that inherits from the User class you wrote in Exercise 9-3 (page 162) or Exercise 9-5 (page 167). Add an attribute, privileges, that stores a list of strings like \"can add post\", \"can delete post\", \"can ban user\", and so on. Write a method called show_privileges() that lists the administrator’s set of privileges. Create an instance of Admin, and call your method."
   ]
  },
  {
   "cell_type": "code",
   "execution_count": 10,
   "metadata": {},
   "outputs": [
    {
     "name": "stdout",
     "output_type": "stream",
     "text": [
      "\n",
      "This admin has the following privileges\n",
      "-can add participant\n",
      "-can remove participant\n",
      "-can switch to admin only\n"
     ]
    }
   ],
   "source": [
    "class Admin(User):\n",
    "    '''An attempt to model an Admin, a special kind of User'''\n",
    "    def __init__(self, first_name, last_name, age, address):\n",
    "        super().__init__(first_name,last_name,age,address)\n",
    "        self.privileges = ['can add participant','can remove participant','can switch to admin only']\n",
    "    def show_privileges(self):\n",
    "        '''Display the privileges an admin possesses'''\n",
    "        print(f'\\nThis admin has the following privileges')\n",
    "        for item in self.privileges:\n",
    "            print(f'-{item}')\n",
    "\n",
    "userb = Admin('Mahmud', 'Mahmud', 25, 'Kano State')\n",
    "userb.show_privileges()"
   ]
  },
  {
   "attachments": {},
   "cell_type": "markdown",
   "metadata": {},
   "source": [
    "**Exercise 9-8.** \n",
    "\n",
    "Privileges: Write a separate Privileges class. The class should have one attribute, privileges, that stores a list of strings as described in Exercise 9-7. Move the show_privileges() method to this class. Make a Privileges instance as an attribute in the Admin class. Create a new instance of Admin and use your method to show its privileges"
   ]
  },
  {
   "cell_type": "code",
   "execution_count": 11,
   "metadata": {},
   "outputs": [],
   "source": [
    "\n",
    "class Privileges:\n",
    "    '''An attempt to model the privileges an admin user profile has'''\n",
    "    def __init__(self,privileges = ['can add participant','can remove participant','can switch to admin only']):\n",
    "        self.privileges = privileges\n",
    "    def show_privileges(self):\n",
    "        '''Display the privileges an admin possesses'''\n",
    "        if self.privileges:\n",
    "            print(f'\\n This admin has the following privileges')\n",
    "            for item in self.privileges:\n",
    "                print(f'-{item}')\n",
    "        else: \n",
    "            print(f'This user has no privileges')"
   ]
  },
  {
   "cell_type": "code",
   "execution_count": 12,
   "metadata": {},
   "outputs": [
    {
     "name": "stdout",
     "output_type": "stream",
     "text": [
      "\n",
      " This admin has the following privileges\n",
      "-can add participant\n",
      "-can remove participant\n",
      "-can switch to admin only\n"
     ]
    }
   ],
   "source": [
    "class Admin2(User):\n",
    "    '''An attempt to model an Admin, a special kind of User'''\n",
    "    def __init__(self,first_name,last_name,age,address):\n",
    "        super().__init__(first_name,last_name,age, address)\n",
    "        self.privileges = Privileges()\n",
    "\n",
    "adminb = Admin2('Mahmud', 'Mahmud', 25, 'Kano State')\n",
    "adminb.privileges.show_privileges()"
   ]
  },
  {
   "attachments": {},
   "cell_type": "markdown",
   "metadata": {},
   "source": [
    "**Exercise 9-9.** \n",
    "\n",
    "Battery Upgrade: Use the final version of electric_car.py from this section. Add a method to the Battery class called upgrade_battery(). This method should check the battery size and set the capacity to 100 if it isn’t already. Make an electric car with a default battery size, call get_range() once, and then call get_range() a second time after upgrading the battery. You should see an increase in the car’s range."
   ]
  },
  {
   "cell_type": "code",
   "execution_count": 13,
   "metadata": {},
   "outputs": [
    {
     "name": "stdout",
     "output_type": "stream",
     "text": [
      "2023 Honda Accord S\n",
      "This car has a 75-kWh battery.\n",
      "This car can go about 260 miles on a full charge.\n",
      "\n",
      "Checking the range after upgrading battery:\n",
      "Battery has been upgraded to 100KWh\n",
      "This car can go about 315 miles on a full charge.\n"
     ]
    }
   ],
   "source": [
    "class Car:\n",
    "    \"\"\"A simple attempt to represent a car.\"\"\"\n",
    "\n",
    "    def __init__(self, make, model, year):\n",
    "        self.make = make\n",
    "        self.model = model\n",
    "        self.year = year\n",
    "        self.odometer_reading = 0\n",
    "        \n",
    "    def get_descriptive_name(self):\n",
    "        long_name = f\"{self.year} {self.make} {self.model}\"\n",
    "        return long_name.title()\n",
    "    \n",
    "    def read_odometer(self):\n",
    "        print(f\"This car has {self.odometer_reading} miles on it.\")\n",
    "        \n",
    "    def update_odometer(self, mileage):\n",
    "        if mileage >= self.odometer_reading:\n",
    "            self.odometer_reading = mileage\n",
    "        else:\n",
    "            print(\"You can't roll back an odometer!\")\n",
    "    \n",
    "    def increment_odometer(self, miles):\n",
    "        self.odometer_reading += miles\n",
    "\n",
    "class Battery:\n",
    "    \"\"\"A simple attempt to model a battery for an electric car.\"\"\"\n",
    "    \n",
    "    def __init__(self, battery_size=75):\n",
    "        \"\"\"Initialize the battery's attributes.\"\"\"\n",
    "        self.battery_size = battery_size\n",
    "\n",
    "    def describe_battery(self):\n",
    "        \"\"\"Print a statement describing the battery size.\"\"\"\n",
    "        print(f\"This car has a {self.battery_size}-kWh battery.\")\n",
    "\n",
    "    def get_range(self):\n",
    "        \"\"\"Print a statement about the range this battery provides.\"\"\"\n",
    "        if self.battery_size == 75:\n",
    "            range = 260\n",
    "        elif self.battery_size == 100:\n",
    "            range = 315\n",
    "            \n",
    "        print(f\"This car can go about {range} miles on a full charge.\")\n",
    "\n",
    "    def upgrade_battery(self):\n",
    "        '''Upgrade the battery if there's a need'''\n",
    "        if self.battery_size == 75:\n",
    "            self.battery_size = 100\n",
    "            print('Battery has been upgraded to 100KWh')\n",
    "        else:\n",
    "            print('Battery already upgraded')\n",
    "\n",
    "\n",
    "class ElectricCar(Car):\n",
    "    \"\"\"Represent aspects of a car, specific to electric vehicles.\"\"\"\n",
    "    \n",
    "    def __init__(self, make, model, year):\n",
    "        \"\"\"\n",
    "        Initialize attributes of the parent class.\n",
    "        Then initialize attributes specific to an electric car.\n",
    "        \"\"\"\n",
    "        super().__init__(make, model, year)\n",
    "        self.battery = Battery()\n",
    "\n",
    "    def describe_battery(self):\n",
    "        \"\"\"Print a statement describing the battery size.\"\"\"\n",
    "        print(f\"This car has a {self.battery_size}-kWh battery.\")\n",
    "my_tesla = ElectricCar('Honda', 'Accord s', 2023)\n",
    "print(my_tesla.get_descriptive_name())\n",
    "my_tesla.battery.describe_battery()\n",
    "my_tesla.battery.get_range()\n",
    "\n",
    "print(\"\\nChecking the range after upgrading battery:\")\n",
    "my_tesla.battery.upgrade_battery()\n",
    "my_tesla.battery.get_range()"
   ]
  }
 ],
 "metadata": {
  "kernelspec": {
   "display_name": "Python 3",
   "language": "python",
   "name": "python3"
  },
  "language_info": {
   "codemirror_mode": {
    "name": "ipython",
    "version": 3
   },
   "file_extension": ".py",
   "mimetype": "text/x-python",
   "name": "python",
   "nbconvert_exporter": "python",
   "pygments_lexer": "ipython3",
   "version": "3.10.8"
  },
  "orig_nbformat": 4,
  "vscode": {
   "interpreter": {
    "hash": "fa2bdf7561d8d60c40fbb5bf830ea182e95f6f248050aed925ff7a2119deb876"
   }
  }
 },
 "nbformat": 4,
 "nbformat_minor": 2
}
