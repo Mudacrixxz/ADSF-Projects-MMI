{
 "cells": [
  {
   "attachments": {},
   "cell_type": "markdown",
   "metadata": {},
   "source": [
    "## CHAPTER (9)\n",
    "\n",
    "### CLASS"
   ]
  },
  {
   "attachments": {},
   "cell_type": "markdown",
   "metadata": {},
   "source": [
    "**Exercise 9-1.** \n",
    "\n",
    "Restaurant: Make a class called Restaurant. The __init__() method for\n",
    "Restaurant should store two attributes: a restaurant_name and a cuisine_type.\n",
    "Make a method called describe_restaurant() that prints these two pieces of\n",
    "information, and a method called open_restaurant() that prints a message indicating that the restaurant is open.\n",
    "Make an instance called restaurant from your class. Print the two attributes individually, and then call both methods.\n"
   ]
  },
  {
   "cell_type": "code",
   "execution_count": 26,
   "metadata": {},
   "outputs": [
    {
     "name": "stdout",
     "output_type": "stream",
     "text": [
      "Patoosh\n",
      "Chainesse\n",
      "Patoosh restuarant has great decor and ambiance...\n",
      "Welcome to Patoosh retuarant, you will find happiness and best Chainesse meal\n",
      "\n",
      "Get ready Patoosh is now open for business!\n",
      "\n"
     ]
    }
   ],
   "source": [
    "class Restuarant:\n",
    "\t\"\"\"A simple attempt to model a dog.\"\"\"\n",
    "\tdef __init__(self, restuarant_name, cuisine_type):\n",
    "\t\t\"\"\"Initialize restuarant_name and cuisine_type attributes.\"\"\"\n",
    "\t\tself.restuarant_name = restuarant_name\n",
    "\t\tself.cuisine_type = cuisine_type\n",
    "\tdef describe_restuarant(self):\n",
    "\t\t\"\"\"Describing the restuarant\"\"\"\n",
    "\t\tprint(f'{self.restuarant_name} restuarant has great decor and ambiance...')\n",
    "\t\tprint(f'Welcome to {self.restuarant_name} retuarant, you will find happiness and best {self.cuisine_type} meal\\n')\n",
    "\tdef open_restuarant(self):\n",
    "\t\t\"\"\"Informing people that it's now open\"\"\"\n",
    "\t\tprint(f\"Get ready {self.restuarant_name} is now open for business!\\n\")\n",
    "my_rest = Restuarant('Patoosh', 'Chainesse' )\n",
    "print(my_rest.restuarant_name)\n",
    "print(my_rest.cuisine_type)\n",
    "my_rest.describe_restuarant()\n",
    "my_rest.open_restuarant()"
   ]
  },
  {
   "attachments": {},
   "cell_type": "markdown",
   "metadata": {},
   "source": [
    "**Exercise 9-2.** \n",
    "\n",
    "Three Restaurants: Start with your class from Exercise 9-1. Create three\n",
    "different instances from the class, and call describe_restaurant() for each\n",
    "instance.\n"
   ]
  },
  {
   "cell_type": "code",
   "execution_count": 27,
   "metadata": {},
   "outputs": [
    {
     "name": "stdout",
     "output_type": "stream",
     "text": [
      "Gusto restuarant has great decor and ambiance...\n",
      "Welcome to Gusto retuarant, you will find happiness and best Kanuri meal\n",
      "\n",
      "JunkYard restuarant has great decor and ambiance...\n",
      "Welcome to JunkYard retuarant, you will find happiness and best Fast meal\n",
      "\n",
      "Shab'an restuarant has great decor and ambiance...\n",
      "Welcome to Shab'an retuarant, you will find happiness and best Indian meal\n",
      "\n"
     ]
    }
   ],
   "source": [
    "rest1 = Restuarant('Gusto', 'Kanuri')\n",
    "rest2 = Restuarant('JunkYard', 'Fast')\n",
    "rest3 = Restuarant(\"Shab\\'an\", 'Indian')\n",
    "rest1.describe_restuarant()\n",
    "rest2.describe_restuarant()\n",
    "rest3.describe_restuarant()"
   ]
  }
 ],
 "metadata": {
  "kernelspec": {
   "display_name": "Python 3",
   "language": "python",
   "name": "python3"
  },
  "language_info": {
   "codemirror_mode": {
    "name": "ipython",
    "version": 3
   },
   "file_extension": ".py",
   "mimetype": "text/x-python",
   "name": "python",
   "nbconvert_exporter": "python",
   "pygments_lexer": "ipython3",
   "version": "3.11.0"
  },
  "orig_nbformat": 4,
  "vscode": {
   "interpreter": {
    "hash": "2f1a2eacb683bb06bd5c158a4e3bf200b129d414ee0e1c88e9c74e55ea9e8d37"
   }
  }
 },
 "nbformat": 4,
 "nbformat_minor": 2
}
