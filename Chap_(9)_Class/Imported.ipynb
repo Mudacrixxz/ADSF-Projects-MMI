{
 "cells": [
  {
   "cell_type": "code",
   "execution_count": null,
   "metadata": {},
   "outputs": [],
   "source": [
    "\"\"\"\n",
    "Question (9-10)\n",
    "Imported Restaurant: Using your latest Restaurant class, store it in a mod￾ule. Make a separate file that imports Restaurant. Make a Restaurant instance,\n",
    "and call one of Restaurant's methods to show that the import statement is working properly.\n",
    "\"\"\"\n",
    "from Restaurant import Restaurant1\n",
    "\n",
    "rest = Restaurant1('Patoosh','Chinese')\n",
    "rest.number_served   # 0\n",
    "rest.number_served = 8\n",
    "rest.describe_restaurant()\n",
    "rest.set_number_served(50)\n",
    "rest.describe_restaurant()\n",
    "rest.increment_number_served(7)\n",
    "rest.describe_restaurant()"
   ]
  }
 ],
 "metadata": {
  "kernelspec": {
   "display_name": "Python 3",
   "language": "python",
   "name": "python3"
  },
  "language_info": {
   "name": "python",
   "version": "3.11.0"
  },
  "orig_nbformat": 4,
  "vscode": {
   "interpreter": {
    "hash": "2f1a2eacb683bb06bd5c158a4e3bf200b129d414ee0e1c88e9c74e55ea9e8d37"
   }
  }
 },
 "nbformat": 4,
 "nbformat_minor": 2
}
